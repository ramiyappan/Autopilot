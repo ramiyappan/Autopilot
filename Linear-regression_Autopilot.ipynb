{
 "cells": [
  {
   "cell_type": "markdown",
   "metadata": {},
   "source": [
    "# Import the Dataset"
   ]
  },
  {
   "cell_type": "code",
   "execution_count": 2,
   "metadata": {},
   "outputs": [],
   "source": [
    "import numpy as np\n",
    "import pandas as pd\n",
    "import matplotlib.pyplot as plt\n",
    "\n",
    "train_data = pd.read_csv(\"train_autopilot.csv\")\n",
    "X = train_data.values[:,:-1]\n",
    "Y = train_data.values[:,-1]\n"
   ]
  },
  {
   "cell_type": "markdown",
   "metadata": {},
   "source": [
    "# Define Functions"
   ]
  },
  {
   "cell_type": "code",
   "execution_count": 3,
   "metadata": {},
   "outputs": [],
   "source": [
    "\n",
    "def fit(X, y):\n",
    "    \n",
    "    # Appending a cloumn of ones in X to add the bias term.\n",
    "    X = np.append(X, np.ones((X.shape[0],1)), axis=1)    \n",
    "    \n",
    "    # Closed Form Equation\n",
    "    weights = np.matmul(np.linalg.inv(np.dot(X.T,X)), np.dot(X.T,y))\n",
    "    \n",
    "    return weights    \n",
    "\n",
    "def polynomial_transform(X, degrees):\n",
    "    \n",
    "    t = X.copy()\n",
    "    \n",
    "    # Appending Polynomial Features to X.\n",
    "    for i in range(2,degrees+1):\n",
    "        X = np.append(X, t**i, axis=1)\n",
    "            \n",
    "    return X\n",
    "\n",
    "def predict(X,weights):\n",
    "    \n",
    "    # Appending a cloumn of ones in X to add the bias term.\n",
    "    X = np.append(X, np.ones((X.shape[0],1)), axis=1)\n",
    "    \n",
    "    # y_pred is y_hat which is the dot product of X and weights.\n",
    "    y_pred = np.dot(X, weights)\n",
    "    \n",
    "    return y_pred\n"
   ]
  },
  {
   "cell_type": "markdown",
   "metadata": {},
   "source": [
    "* Fit the model on training data using Polynomial Features M = 1,2,3,4,5,6\n",
    "* predict the target values\n",
    "* Compute Root Mean Square Error on Training Data"
   ]
  },
  {
   "cell_type": "code",
   "execution_count": 4,
   "metadata": {},
   "outputs": [
    {
     "name": "stdout",
     "output_type": "stream",
     "text": [
      "Root Mean Square Errors on Training Data :---\n",
      " -> for M = 1 : 14.30\n",
      " -> for M = 2 : 14.22\n",
      " -> for M = 3 : 14.15\n",
      " -> for M = 4 : 14.13\n",
      " -> for M = 5 : 14.06\n",
      " -> for M = 6 : 14.65\n"
     ]
    }
   ],
   "source": [
    "degrees = [i for i in range(1,7)]\n",
    "training_errors = []\n",
    "Weight_vector = dict()\n",
    "Predictions = dict()\n",
    "\n",
    "print(\"Root Mean Square Errors on Training Data :---\")\n",
    "\n",
    "for pow in degrees:\n",
    "    X = train_data.values[:,:-1]\n",
    "    \n",
    "    if pow!=1:\n",
    "        X = polynomial_transform(X,pow)\n",
    "    weights = fit(X, Y)\n",
    "    Weight_vector[str(pow)] = weights\n",
    "    \n",
    "    y_pred = predict(X,weights)\n",
    "    Predictions[str(pow)] = y_pred\n",
    "    \n",
    "    root_mse = np.sqrt(np.mean((Y-y_pred)**2))\n",
    "    training_errors.append(root_mse)\n",
    "    print(\" -> for M = %d : %.2f\" % (pow,root_mse))"
   ]
  },
  {
   "cell_type": "markdown",
   "metadata": {},
   "source": [
    "# Visualize Training error against Polynomial Features"
   ]
  },
  {
   "cell_type": "code",
   "execution_count": 5,
   "metadata": {},
   "outputs": [
    {
     "data": {
      "text/plain": [
       "Text(0.5, 1.0, 'Polynomial Features Vs Training error')"
      ]
     },
     "execution_count": 5,
     "metadata": {},
     "output_type": "execute_result"
    },
    {
     "data": {
      "image/png": "[encoded data removed]",
      "text/plain": [
       "<Figure size 432x288 with 1 Axes>"
      ]
     },
     "metadata": {
      "needs_background": "light"
     },
     "output_type": "display_data"
    }
   ],
   "source": [
    "plt.plot(degrees,training_errors)\n",
    "plt.xlabel(\"Polynomial Features\")\n",
    "plt.ylabel(\"Training Error\")\n",
    "plt.title(\"Polynomial Features Vs Training error\")"
   ]
  },
  {
   "cell_type": "markdown",
   "metadata": {},
   "source": [
    "# Predict the Test Dataset and compute Test error"
   ]
  },
  {
   "cell_type": "code",
   "execution_count": 6,
   "metadata": {},
   "outputs": [
    {
     "name": "stdout",
     "output_type": "stream",
     "text": [
      "Root Mean Square Errors on Test Data :---\n",
      " -> for M = 1 : 14.82\n",
      " -> for M = 2 : 14.84\n",
      " -> for M = 3 : 14.74\n",
      " -> for M = 4 : 22.24\n",
      " -> for M = 5 : 68.55\n",
      " -> for M = 6 : 374.54\n"
     ]
    }
   ],
   "source": [
    "test_data = pd.read_csv(\"test_autopilot.csv\")\n",
    "X_test = test_data.values[:,:-1]\n",
    "Y_test = test_data.values[:,-1]\n",
    "\n",
    "degrees = [i for i in range(1,7)]\n",
    "test_errors = []\n",
    "\n",
    "print(\"Root Mean Square Errors on Test Data :---\")\n",
    "\n",
    "for pow in degrees:\n",
    "    X_test = test_data.values[:,:-1]\n",
    "    \n",
    "    if pow!=1:\n",
    "        X_test = polynomial_transform(X_test,pow)\n",
    "    y_pred = predict(X_test,Weight_vector[str(pow)])\n",
    "    \n",
    "    root_mse = np.sqrt(np.mean((Y_test-y_pred)**2))\n",
    "    test_errors.append(root_mse)\n",
    "    print(\" -> for M = %d : %.2f\" % (pow,root_mse))"
   ]
  },
  {
   "cell_type": "markdown",
   "metadata": {},
   "source": [
    "# Visualize Test Error Against Polynomial Features"
   ]
  },
  {
   "cell_type": "code",
   "execution_count": 7,
   "metadata": {},
   "outputs": [
    {
     "data": {
      "text/plain": [
       "Text(0.5, 1.0, 'Polynomial Features Vs Test error')"
      ]
     },
     "execution_count": 7,
     "metadata": {},
     "output_type": "execute_result"
    },
    {
     "data": {
      "image/png": "[encoded data removed]",
      "text/plain": [
       "<Figure size 432x288 with 1 Axes>"
      ]
     },
     "metadata": {
      "needs_background": "light"
     },
     "output_type": "display_data"
    }
   ],
   "source": [
    "plt.plot(degrees,test_errors)\n",
    "plt.xlabel(\"Polynomial Features\")\n",
    "plt.ylabel(\"Test Error\")\n",
    "plt.title(\"Polynomial Features Vs Test error\")"
   ]
  },
  {
   "cell_type": "markdown",
   "metadata": {},
   "source": [
    "# Compare Training Error & Test Error Against Polynomial Features"
   ]
  },
  {
   "cell_type": "code",
   "execution_count": 8,
   "metadata": {},
   "outputs": [
    {
     "data": {
      "text/plain": [
       "(0.0, 100.0)"
      ]
     },
     "execution_count": 8,
     "metadata": {},
     "output_type": "execute_result"
    },
    {
     "data": {
      "image/png": "[encoded data removed]",
      "text/plain": [
       "<Figure size 432x288 with 1 Axes>"
      ]
     },
     "metadata": {
      "needs_background": "light"
     },
     "output_type": "display_data"
    }
   ],
   "source": [
    "plt.plot(degrees,training_errors,color='green')\n",
    "plt.plot(degrees,test_errors,color='red')\n",
    "plt.legend(['Training error','Test error'])\n",
    "plt.xlabel(\"Polynomial Features\")\n",
    "plt.ylabel(\"Root MSE\")\n",
    "plt.title(\"Train & Test error Comparisions against Polynomial Features\")\n",
    "plt.ylim(0,100)"
   ]
  }
 ],
 "metadata": {
  "kernelspec": {
   "display_name": "Python 3.10.7 64-bit (microsoft store)",
   "language": "python",
   "name": "python3"
  },
  "language_info": {
   "codemirror_mode": {
    "name": "ipython",
    "version": 3
   },
   "file_extension": ".py",
   "mimetype": "text/x-python",
   "name": "python",
   "nbconvert_exporter": "python",
   "pygments_lexer": "ipython3",
   "version": "3.10.7"
  },
  "orig_nbformat": 4,
  "vscode": {
   "interpreter": {
    "hash": "502b735065de89421cf10aeafff594534290c9e1d6b63be991b466e4f41e3464"
   }
  }
 },
 "nbformat": 4,
 "nbformat_minor": 2
}
