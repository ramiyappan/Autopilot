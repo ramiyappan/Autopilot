{
 "cells": [
  {
   "cell_type": "markdown",
   "metadata": {},
   "source": [
    "# Import the Dataset"
   ]
  },
  {
   "cell_type": "code",
   "execution_count": 2,
   "metadata": {},
   "outputs": [
    {
     "data": {
      "text/html": [
       "<div>\n",
       "<style scoped>\n",
       "    .dataframe tbody tr th:only-of-type {\n",
       "        vertical-align: middle;\n",
       "    }\n",
       "\n",
       "    .dataframe tbody tr th {\n",
       "        vertical-align: top;\n",
       "    }\n",
       "\n",
       "    .dataframe thead th {\n",
       "        text-align: right;\n",
       "    }\n",
       "</style>\n",
       "<table border=\"1\" class=\"dataframe\">\n",
       "  <thead>\n",
       "    <tr style=\"text-align: right;\">\n",
       "      <th></th>\n",
       "      <th>Age</th>\n",
       "      <th>Salary</th>\n",
       "      <th>College Degree</th>\n",
       "    </tr>\n",
       "  </thead>\n",
       "  <tbody>\n",
       "    <tr>\n",
       "      <th>0</th>\n",
       "      <td>25</td>\n",
       "      <td>41000</td>\n",
       "      <td>Yes</td>\n",
       "    </tr>\n",
       "    <tr>\n",
       "      <th>1</th>\n",
       "      <td>54</td>\n",
       "      <td>54000</td>\n",
       "      <td>No</td>\n",
       "    </tr>\n",
       "    <tr>\n",
       "      <th>2</th>\n",
       "      <td>24</td>\n",
       "      <td>25000</td>\n",
       "      <td>No</td>\n",
       "    </tr>\n",
       "    <tr>\n",
       "      <th>3</th>\n",
       "      <td>26</td>\n",
       "      <td>77000</td>\n",
       "      <td>Yes</td>\n",
       "    </tr>\n",
       "    <tr>\n",
       "      <th>4</th>\n",
       "      <td>33</td>\n",
       "      <td>48000</td>\n",
       "      <td>Yes</td>\n",
       "    </tr>\n",
       "    <tr>\n",
       "      <th>5</th>\n",
       "      <td>53</td>\n",
       "      <td>110000</td>\n",
       "      <td>Yes</td>\n",
       "    </tr>\n",
       "    <tr>\n",
       "      <th>6</th>\n",
       "      <td>23</td>\n",
       "      <td>38000</td>\n",
       "      <td>Yes</td>\n",
       "    </tr>\n",
       "    <tr>\n",
       "      <th>7</th>\n",
       "      <td>43</td>\n",
       "      <td>44000</td>\n",
       "      <td>No</td>\n",
       "    </tr>\n",
       "    <tr>\n",
       "      <th>8</th>\n",
       "      <td>53</td>\n",
       "      <td>28000</td>\n",
       "      <td>No</td>\n",
       "    </tr>\n",
       "    <tr>\n",
       "      <th>9</th>\n",
       "      <td>49</td>\n",
       "      <td>65000</td>\n",
       "      <td>Yes</td>\n",
       "    </tr>\n",
       "  </tbody>\n",
       "</table>\n",
       "</div>"
      ],
      "text/plain": [
       "   Age  Salary College Degree\n",
       "0   25   41000            Yes\n",
       "1   54   54000             No\n",
       "2   24   25000             No\n",
       "3   26   77000            Yes\n",
       "4   33   48000            Yes\n",
       "5   53  110000            Yes\n",
       "6   23   38000            Yes\n",
       "7   43   44000             No\n",
       "8   53   28000             No\n",
       "9   49   65000            Yes"
      ]
     },
     "execution_count": 2,
     "metadata": {},
     "output_type": "execute_result"
    }
   ],
   "source": [
    "import pandas as pd\n",
    "import numpy as np\n",
    "import matplotlib.pyplot as plt\n",
    "\n",
    "data = pd.read_csv(\"college_degree.csv\")\n",
    "\n",
    "data"
   ]
  },
  {
   "cell_type": "markdown",
   "metadata": {},
   "source": [
    "# 1[A.] : Compute Zero-One loss on Training Data \n",
    "# for threshold function 1[Age<=50]"
   ]
  },
  {
   "cell_type": "code",
   "execution_count": 3,
   "metadata": {},
   "outputs": [
    {
     "name": "stdout",
     "output_type": "stream",
     "text": [
      "Y_true = [ True False False  True  True  True  True False False  True]\n",
      "Y_pred = [ True False  True  True  True False  True  True False  True]\n",
      "zero-one loss for threshold function 1[Age<=50] :  0.3\n"
     ]
    }
   ],
   "source": [
    "X = np.array(data.iloc[:,:2])\n",
    "Y = np.array(data.iloc[:,-1])\n",
    "\n",
    "#converting Yes or No to Bool values for easy understanding\n",
    "Y_true = Y=='Yes'\n",
    "print(\"Y_true =\",Y_true) \n",
    "\n",
    "#comparing datapoints in Age feature using threshold function 1[Age<=50]\n",
    "Y_pred = X[:,0]<=50\n",
    "print(\"Y_pred =\",Y_pred)\n",
    "\n",
    "#comparing y_true and y_pred => returns True if the values match.\n",
    "zero_one_loss = Y_true == Y_pred\n",
    "zero_one_loss = len(zero_one_loss[zero_one_loss==0]) / len(Y)\n",
    "print(\"zero-one loss for threshold function 1[Age<=50] : \",zero_one_loss)"
   ]
  },
  {
   "cell_type": "markdown",
   "metadata": {},
   "source": [
    "# 1[B.] : Compute Zero-One loss on Training Data as a function of threshold value for each feature"
   ]
  },
  {
   "cell_type": "markdown",
   "metadata": {},
   "source": [
    "Compare 2 plots for Age feature : Age<=threshold and Age>threshold"
   ]
  },
  {
   "cell_type": "code",
   "execution_count": 31,
   "metadata": {},
   "outputs": [
    {
     "name": "stdout",
     "output_type": "stream",
     "text": [
      "Feature => Age : \n",
      " [25 54 24 26 33 53 23 43 53 49]\n",
      "\n",
      "zero-one loss on training data with threshold function [Age<=threshold] : \n",
      " [0.5, 0.4, 0.6, 0.4, 0.3, 0.3, 0.5, 0.4, 0.3, 0.3]\n"
     ]
    },
    {
     "data": {
      "image/png": "[encoded data removed]",
      "text/plain": [
       "<Figure size 432x288 with 1 Axes>"
      ]
     },
     "metadata": {
      "needs_background": "light"
     },
     "output_type": "display_data"
    }
   ],
   "source": [
    "Age = X[:,0]\n",
    "\n",
    "Loss_for_Age = []\n",
    "for threshold in Age:\n",
    "    Y_pred = X[:,0]<=threshold #Threshold Function\n",
    "    #print(\"Y_pred =\",Y_pred)\n",
    "    \n",
    "    zero_one_loss = Y_true == Y_pred\n",
    "    zero_one_loss = len(zero_one_loss[zero_one_loss==0]) / len(Y)\n",
    "    #print(\"zero one loss = \",zero_one_loss)\n",
    "    \n",
    "    Loss_for_Age.append(zero_one_loss)\n",
    "\n",
    "print(\"Feature => Age : \\n\",Age)\n",
    "print(\"\\nzero-one loss on training data with threshold function [Age<=threshold] : \\n\",Loss_for_Age)\n",
    "\n",
    "# --- PLOT ---\n",
    "plt.plot(Age,Loss_for_Age,'o')\n",
    "plt.xlabel('Threshold value for Age')\n",
    "plt.ylabel('LOSS on Training Data')\n",
    "plt.title('Loss on Training Data as a function of [Age<=threshold]')\n",
    "plt.show()"
   ]
  },
  {
   "cell_type": "code",
   "execution_count": 33,
   "metadata": {},
   "outputs": [
    {
     "name": "stdout",
     "output_type": "stream",
     "text": [
      "Feature => Age : \n",
      " [25 54 24 26 33 53 23 43 53 49]\n",
      "\n",
      "zero-one loss on training data with threshold function [Age>threshold] : \n",
      " [0.5, 0.6, 0.4, 0.6, 0.7, 0.7, 0.5, 0.6, 0.7, 0.7]\n"
     ]
    },
    {
     "data": {
      "image/png": "[encoded data removed]",
      "text/plain": [
       "<Figure size 432x288 with 1 Axes>"
      ]
     },
     "metadata": {
      "needs_background": "light"
     },
     "output_type": "display_data"
    }
   ],
   "source": [
    "Loss_for_Age = []\n",
    "for threshold in Age:\n",
    "    Y_pred = X[:,0]>threshold #Threshold Function\n",
    "    \n",
    "    zero_one_loss = Y_true == Y_pred\n",
    "    zero_one_loss = len(zero_one_loss[zero_one_loss==0]) / len(Y)\n",
    "    \n",
    "    Loss_for_Age.append(zero_one_loss)\n",
    "\n",
    "print(\"Feature => Age : \\n\",Age)\n",
    "print(\"\\nzero-one loss on training data with threshold function [Age>threshold] : \\n\",Loss_for_Age)\n",
    "\n",
    "# --- PLOT ---\n",
    "plt.plot(Age,Loss_for_Age,'o')\n",
    "plt.xlabel('Threshold value for Age')\n",
    "plt.ylabel('LOSS on Training Data')\n",
    "plt.title('Loss on Training Data as a function of [Age>threshold]')\n",
    "plt.show()"
   ]
  },
  {
   "cell_type": "markdown",
   "metadata": {},
   "source": [
    "Compare 2 Plots for Salary Feature : salary<=threshold & salary>threshold"
   ]
  },
  {
   "cell_type": "code",
   "execution_count": 5,
   "metadata": {},
   "outputs": [
    {
     "name": "stdout",
     "output_type": "stream",
     "text": [
      "Feature => Salary : \n",
      " [ 41000  54000  25000  77000  48000 110000  38000  44000  28000  65000]\n",
      "\n",
      "zero-one loss on training data with threshold function [Salary<=threshold] : \n",
      " [0.6, 0.7, 0.7, 0.5, 0.6, 0.4, 0.7, 0.7, 0.8, 0.6]\n"
     ]
    },
    {
     "data": {
      "image/png": "[encoded data removed]",
      "text/plain": [
       "<Figure size 432x288 with 1 Axes>"
      ]
     },
     "metadata": {
      "needs_background": "light"
     },
     "output_type": "display_data"
    }
   ],
   "source": [
    "Salary = X[:,1]\n",
    "\n",
    "Loss_for_Salary = []\n",
    "for threshold in Salary:\n",
    "    Y_pred = X[:,1]<=threshold #Threshold Function\n",
    "    \n",
    "    zero_one_loss = Y_true == Y_pred\n",
    "    zero_one_loss = len(zero_one_loss[zero_one_loss==0]) / len(Y)\n",
    "    \n",
    "    Loss_for_Salary.append(zero_one_loss)\n",
    "\n",
    "print(\"Feature => Salary : \\n\",Salary)\n",
    "print(\"\\nzero-one loss on training data with threshold function [Salary<=threshold] : \\n\",Loss_for_Salary)\n",
    "\n",
    "# --- PLOT ---\n",
    "plt.plot(Salary,Loss_for_Salary,'o')\n",
    "plt.xlabel('Threshold value for Salary')\n",
    "plt.ylabel('LOSS on Training Data')\n",
    "plt.title('Loss on Training Data as a function of [Salary<=threshold]')\n",
    "plt.show()"
   ]
  },
  {
   "cell_type": "code",
   "execution_count": 6,
   "metadata": {},
   "outputs": [
    {
     "name": "stdout",
     "output_type": "stream",
     "text": [
      "Feature => Salary : \n",
      " [ 41000  54000  25000  77000  48000 110000  38000  44000  28000  65000]\n",
      "\n",
      "zero-one loss on training data with threshold function [Salary>threshold] : \n",
      " [0.4, 0.3, 0.3, 0.5, 0.4, 0.6, 0.3, 0.3, 0.2, 0.4]\n"
     ]
    },
    {
     "data": {
      "image/png": "[encoded data removed]",
      "text/plain": [
       "<Figure size 432x288 with 1 Axes>"
      ]
     },
     "metadata": {
      "needs_background": "light"
     },
     "output_type": "display_data"
    }
   ],
   "source": [
    "Loss_for_Salary = []\n",
    "for threshold in Salary:\n",
    "    Y_pred = X[:,1]>threshold #Threshold Function\n",
    "    \n",
    "    zero_one_loss = Y_true == Y_pred\n",
    "    zero_one_loss = len(zero_one_loss[zero_one_loss==0]) / len(Y)\n",
    "    \n",
    "    Loss_for_Salary.append(zero_one_loss)\n",
    "\n",
    "print(\"Feature => Salary : \\n\",Salary)\n",
    "print(\"\\nzero-one loss on training data with threshold function [Salary>threshold] : \\n\",Loss_for_Salary)\n",
    "\n",
    "# --- PLOT ---\n",
    "plt.plot(Salary,Loss_for_Salary,'o')\n",
    "plt.xlabel('Threshold value for Salary')\n",
    "plt.ylabel('LOSS on Training Data')\n",
    "plt.title('Loss on Training Data as a function of [Salary>threshold]')\n",
    "plt.show()"
   ]
  },
  {
   "cell_type": "markdown",
   "metadata": {},
   "source": [
    "# 1[C.] Optimal Threshold Function that minimizes zero-one loss on Training Data"
   ]
  },
  {
   "cell_type": "markdown",
   "metadata": {},
   "source": [
    "\n",
    "# Optimal threshold for Age feature"
   ]
  },
  {
   "cell_type": "markdown",
   "metadata": {},
   "source": [
    "From the Above zero-one loss plots for Age, we can see that :\n",
    "* for the function 1[Age<=threshold], \n",
    "    \n",
    "    minimum zero-one loss on training data = 0.3\n",
    "* for the function 1[Age>threshold], \n",
    "    \n",
    "    minimum zero-one loss on training data = 0.4\n",
    "\n",
    "\n",
    "So we can go with the function 1[Age<=threshold] as the goal is to minimize the zero-one loss on training data,\n",
    "    \n",
    "and in that we have, 3 threshold values => 33, 49 & 53, for which the zero-one loss is 0.3.\n",
    "\n",
    "Therefore, optimal threshold function for the feature 'Age' can be within any of these 3 threshold values.\n",
    "\n",
    "    i.e., 1[Age<=33], 1[Age<=49] & 1[Age<=53] are the optimal threshold functions for the feature 'Age' that minimizes zero-one loss on the training data."
   ]
  },
  {
   "cell_type": "markdown",
   "metadata": {},
   "source": [
    "# Optimal threshold for Salary feature"
   ]
  },
  {
   "cell_type": "markdown",
   "metadata": {},
   "source": [
    "From the Above zero-one loss plots for Salary, we can see that :\n",
    "* for the function 1[Salary<=threshold], \n",
    "    \n",
    "    minimum zero-one loss on training data = 0.4\n",
    "* for the function 1[Salary>threshold], \n",
    "    \n",
    "    minimum zero-one loss on training data = 0.2\n",
    "\n",
    "\n",
    "So we can go with the function 1[Salary>threshold] as it minimizes the zero-one loss for the threshold value 28000.\n",
    "\n",
    "    Therefore, 1[Salary>28000] is the optimal threshold function for the feature 'Salary' that minimizes zero-one loss on the training data."
   ]
  }
 ],
 "metadata": {
  "kernelspec": {
   "display_name": "Python 3.10.7 64-bit (microsoft store)",
   "language": "python",
   "name": "python3"
  },
  "language_info": {
   "codemirror_mode": {
    "name": "ipython",
    "version": 3
   },
   "file_extension": ".py",
   "mimetype": "text/x-python",
   "name": "python",
   "nbconvert_exporter": "python",
   "pygments_lexer": "ipython3",
   "version": "3.10.7"
  },
  "orig_nbformat": 4,
  "vscode": {
   "interpreter": {
    "hash": "502b735065de89421cf10aeafff594534290c9e1d6b63be991b466e4f41e3464"
   }
  }
 },
 "nbformat": 4,
 "nbformat_minor": 2
}
